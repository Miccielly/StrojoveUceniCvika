{
 "cells": [
  {
   "cell_type": "code",
   "execution_count": 5,
   "outputs": [],
   "source": [
    "import numpy as np\n",
    "from sklearn import linear_model\n",
    "model = linear_model.LinearRegression()\n",
    "a = np.array([1, 2, 3 ,4, 5, 6, 7]).reshape((-1, 1))\n",
    "b = np.array([4, 19, 7 ,28, 18, 40, 48])"
   ],
   "metadata": {
    "collapsed": false,
    "pycharm": {
     "name": "#%%\n"
    }
   }
  },
  {
   "cell_type": "code",
   "execution_count": 9,
   "outputs": [
    {
     "name": "stdout",
     "output_type": "stream",
     "text": [
      "Intercept:  -2.9999999999999893\n",
      "Slope:  [6.60714286]\n",
      "[ 3.6 10.2 16.8 23.4 30.  36.6 43.2]\n"
     ]
    }
   ],
   "source": [
    "model.fit(a,b)\n",
    "r_sq = model.score(a, b)\n",
    "print('Intercept: ', model.intercept_)\n",
    "print('Slope: ', model.coef_)\n",
    "new_b = model.predict(a)\n",
    "print(new_b.round(1))"
   ],
   "metadata": {
    "collapsed": false,
    "pycharm": {
     "name": "#%%\n"
    }
   }
  },
  {
   "cell_type": "code",
   "execution_count": null,
   "outputs": [],
   "source": [],
   "metadata": {
    "collapsed": false,
    "pycharm": {
     "name": "#%%\n"
    }
   }
  }
 ],
 "metadata": {
  "kernelspec": {
   "display_name": "Python 3",
   "language": "python",
   "name": "python3"
  },
  "language_info": {
   "codemirror_mode": {
    "name": "ipython",
    "version": 2
   },
   "file_extension": ".py",
   "mimetype": "text/x-python",
   "name": "python",
   "nbconvert_exporter": "python",
   "pygments_lexer": "ipython2",
   "version": "2.7.6"
  }
 },
 "nbformat": 4,
 "nbformat_minor": 0
}