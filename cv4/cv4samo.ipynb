{
 "cells": [
  {
   "cell_type": "code",
   "execution_count": null,
   "outputs": [],
   "source": [
    "from sklearn.neural_network import MLPClassifier\n",
    "\n",
    "#10 skrytých vrstev s různým počtem uzlů\n",
    "mlp = MLPClassifier(hidden_layer_sizes=(10, 8, 8, 8, 10, 10, 10, 10 ,10 ,8 ), activation='relu', alpha=1e-4, solver='adam', tol=1e-4, random_state=1, learning_rate_init=.1, verbose=True)"
   ],
   "metadata": {
    "collapsed": false,
    "pycharm": {
     "name": "#%%\n"
    }
   }
  },
  {
   "cell_type": "code",
   "execution_count": null,
   "outputs": [],
   "source": [
    "confusionMatrix=\n",
    "[ 50 0 0 0\n",
    "  48 0 0 0\n",
    "  52 0 0 0\n",
    "  50 0 0 0]\n",
    "\n",
    "#Confusion matrix nám říká že z 200 prvků zařadil model správně 50 do první třídy a zbytek chybně, jelikož si je spletl s první třídou. Správné zařazení je vidět na diagonále, kde kromě 50ky v prvku [0,0] jsou všude 0 tedy žádné zařazení."
   ],
   "metadata": {
    "collapsed": false,
    "pycharm": {
     "name": "#%%\n"
    }
   }
  }
 ],
 "metadata": {
  "kernelspec": {
   "display_name": "Python 3",
   "language": "python",
   "name": "python3"
  },
  "language_info": {
   "codemirror_mode": {
    "name": "ipython",
    "version": 2
   },
   "file_extension": ".py",
   "mimetype": "text/x-python",
   "name": "python",
   "nbconvert_exporter": "python",
   "pygments_lexer": "ipython2",
   "version": "2.7.6"
  }
 },
 "nbformat": 4,
 "nbformat_minor": 0
}